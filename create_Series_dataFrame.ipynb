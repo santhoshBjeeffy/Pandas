{
  "nbformat": 4,
  "nbformat_minor": 0,
  "metadata": {
    "colab": {
      "name": "create_Series_dataFrame.ipynb",
      "provenance": [],
      "include_colab_link": true
    },
    "kernelspec": {
      "name": "python3",
      "display_name": "Python 3"
    },
    "accelerator": "GPU"
  },
  "cells": [
    {
      "cell_type": "markdown",
      "metadata": {
        "id": "view-in-github",
        "colab_type": "text"
      },
      "source": [
        "<a href=\"https://colab.research.google.com/github/santhoshBjeeffy/Pandas/blob/master/create_Series_dataFrame.ipynb\" target=\"_parent\"><img src=\"https://colab.research.google.com/assets/colab-badge.svg\" alt=\"Open In Colab\"/></a>"
      ]
    },
    {
      "cell_type": "code",
      "metadata": {
        "id": "96Kn_fvBt01V",
        "colab_type": "code",
        "colab": {}
      },
      "source": [
        "import pandas as pd"
      ],
      "execution_count": 0,
      "outputs": []
    },
    {
      "cell_type": "code",
      "metadata": {
        "id": "b-yHHdh8uItz",
        "colab_type": "code",
        "colab": {}
      },
      "source": [
        "#create a directory\n",
        "\n",
        "raw_data={\"name\":[\"santhosh\",\"manoj\",\"shivakumar\",\"chethan\"],\n",
        "         \"evolution\":[\"Dbpur\",\"marsandra\",\"hebbal\",\"kodigehalli\"],\n",
        "         \"type\":[\"grass\",\"fire\",\"water\",\"bug\"],\n",
        "         \"hp\":[12,31,43,21],\n",
        "         \"pokedex\":[\"yes\",\"no\",\"yes\",\"no\"]\n",
        "         }"
      ],
      "execution_count": 0,
      "outputs": []
    },
    {
      "cell_type": "code",
      "metadata": {
        "id": "KnFIGaFlu9-P",
        "colab_type": "code",
        "colab": {
          "base_uri": "https://localhost:8080/",
          "height": 173
        },
        "outputId": "a92e4e63-9348-4afa-b0e0-7188ee125605"
      },
      "source": [
        "pokeman=pd.DataFrame(raw_data)\n",
        "pokeman.head()"
      ],
      "execution_count": 3,
      "outputs": [
        {
          "output_type": "execute_result",
          "data": {
            "text/html": [
              "<div>\n",
              "<style scoped>\n",
              "    .dataframe tbody tr th:only-of-type {\n",
              "        vertical-align: middle;\n",
              "    }\n",
              "\n",
              "    .dataframe tbody tr th {\n",
              "        vertical-align: top;\n",
              "    }\n",
              "\n",
              "    .dataframe thead th {\n",
              "        text-align: right;\n",
              "    }\n",
              "</style>\n",
              "<table border=\"1\" class=\"dataframe\">\n",
              "  <thead>\n",
              "    <tr style=\"text-align: right;\">\n",
              "      <th></th>\n",
              "      <th>name</th>\n",
              "      <th>evolution</th>\n",
              "      <th>type</th>\n",
              "      <th>hp</th>\n",
              "      <th>pokedex</th>\n",
              "    </tr>\n",
              "  </thead>\n",
              "  <tbody>\n",
              "    <tr>\n",
              "      <th>0</th>\n",
              "      <td>santhosh</td>\n",
              "      <td>Dbpur</td>\n",
              "      <td>grass</td>\n",
              "      <td>12</td>\n",
              "      <td>yes</td>\n",
              "    </tr>\n",
              "    <tr>\n",
              "      <th>1</th>\n",
              "      <td>manoj</td>\n",
              "      <td>marsandra</td>\n",
              "      <td>fire</td>\n",
              "      <td>31</td>\n",
              "      <td>no</td>\n",
              "    </tr>\n",
              "    <tr>\n",
              "      <th>2</th>\n",
              "      <td>shivakumar</td>\n",
              "      <td>hebbal</td>\n",
              "      <td>water</td>\n",
              "      <td>43</td>\n",
              "      <td>yes</td>\n",
              "    </tr>\n",
              "    <tr>\n",
              "      <th>3</th>\n",
              "      <td>chethan</td>\n",
              "      <td>kodigehalli</td>\n",
              "      <td>bug</td>\n",
              "      <td>21</td>\n",
              "      <td>no</td>\n",
              "    </tr>\n",
              "  </tbody>\n",
              "</table>\n",
              "</div>"
            ],
            "text/plain": [
              "         name    evolution   type  hp pokedex\n",
              "0    santhosh        Dbpur  grass  12     yes\n",
              "1       manoj    marsandra   fire  31      no\n",
              "2  shivakumar       hebbal  water  43     yes\n",
              "3     chethan  kodigehalli    bug  21      no"
            ]
          },
          "metadata": {
            "tags": []
          },
          "execution_count": 3
        }
      ]
    },
    {
      "cell_type": "markdown",
      "metadata": {
        "id": "PluLD7pwvNKD",
        "colab_type": "text"
      },
      "source": [
        "#Ops...it seems the DataFrame columns are in alphabetical order. Place the order of the columns as name, type, hp, evolution, pokedex"
      ]
    },
    {
      "cell_type": "code",
      "metadata": {
        "id": "9ljXJYcWvD2s",
        "colab_type": "code",
        "colab": {
          "base_uri": "https://localhost:8080/",
          "height": 173
        },
        "outputId": "6979648a-a3e5-403d-d9c5-053671b8f902"
      },
      "source": [
        "pokeman=pokeman[[\"name\",\"evolution\",\"hp\",\"pokedex\",\"type\"]]\n",
        "pokeman.head()"
      ],
      "execution_count": 4,
      "outputs": [
        {
          "output_type": "execute_result",
          "data": {
            "text/html": [
              "<div>\n",
              "<style scoped>\n",
              "    .dataframe tbody tr th:only-of-type {\n",
              "        vertical-align: middle;\n",
              "    }\n",
              "\n",
              "    .dataframe tbody tr th {\n",
              "        vertical-align: top;\n",
              "    }\n",
              "\n",
              "    .dataframe thead th {\n",
              "        text-align: right;\n",
              "    }\n",
              "</style>\n",
              "<table border=\"1\" class=\"dataframe\">\n",
              "  <thead>\n",
              "    <tr style=\"text-align: right;\">\n",
              "      <th></th>\n",
              "      <th>name</th>\n",
              "      <th>evolution</th>\n",
              "      <th>hp</th>\n",
              "      <th>pokedex</th>\n",
              "      <th>type</th>\n",
              "    </tr>\n",
              "  </thead>\n",
              "  <tbody>\n",
              "    <tr>\n",
              "      <th>0</th>\n",
              "      <td>santhosh</td>\n",
              "      <td>Dbpur</td>\n",
              "      <td>12</td>\n",
              "      <td>yes</td>\n",
              "      <td>grass</td>\n",
              "    </tr>\n",
              "    <tr>\n",
              "      <th>1</th>\n",
              "      <td>manoj</td>\n",
              "      <td>marsandra</td>\n",
              "      <td>31</td>\n",
              "      <td>no</td>\n",
              "      <td>fire</td>\n",
              "    </tr>\n",
              "    <tr>\n",
              "      <th>2</th>\n",
              "      <td>shivakumar</td>\n",
              "      <td>hebbal</td>\n",
              "      <td>43</td>\n",
              "      <td>yes</td>\n",
              "      <td>water</td>\n",
              "    </tr>\n",
              "    <tr>\n",
              "      <th>3</th>\n",
              "      <td>chethan</td>\n",
              "      <td>kodigehalli</td>\n",
              "      <td>21</td>\n",
              "      <td>no</td>\n",
              "      <td>bug</td>\n",
              "    </tr>\n",
              "  </tbody>\n",
              "</table>\n",
              "</div>"
            ],
            "text/plain": [
              "         name    evolution  hp pokedex   type\n",
              "0    santhosh        Dbpur  12     yes  grass\n",
              "1       manoj    marsandra  31      no   fire\n",
              "2  shivakumar       hebbal  43     yes  water\n",
              "3     chethan  kodigehalli  21      no    bug"
            ]
          },
          "metadata": {
            "tags": []
          },
          "execution_count": 4
        }
      ]
    },
    {
      "cell_type": "markdown",
      "metadata": {
        "id": "Vv81fKsBvmXX",
        "colab_type": "text"
      },
      "source": [
        "#insert another column place in a dataframe\n"
      ]
    },
    {
      "cell_type": "code",
      "metadata": {
        "id": "c25sL7Aivgbr",
        "colab_type": "code",
        "colab": {
          "base_uri": "https://localhost:8080/",
          "height": 173
        },
        "outputId": "73da6991-4e98-4c0c-d840-6a4585233630"
      },
      "source": [
        "pokeman['place']=['whitefield','whitefield','hebbal','hebbal']\n",
        "pokeman.head()"
      ],
      "execution_count": 8,
      "outputs": [
        {
          "output_type": "execute_result",
          "data": {
            "text/html": [
              "<div>\n",
              "<style scoped>\n",
              "    .dataframe tbody tr th:only-of-type {\n",
              "        vertical-align: middle;\n",
              "    }\n",
              "\n",
              "    .dataframe tbody tr th {\n",
              "        vertical-align: top;\n",
              "    }\n",
              "\n",
              "    .dataframe thead th {\n",
              "        text-align: right;\n",
              "    }\n",
              "</style>\n",
              "<table border=\"1\" class=\"dataframe\">\n",
              "  <thead>\n",
              "    <tr style=\"text-align: right;\">\n",
              "      <th></th>\n",
              "      <th>name</th>\n",
              "      <th>evolution</th>\n",
              "      <th>hp</th>\n",
              "      <th>pokedex</th>\n",
              "      <th>type</th>\n",
              "      <th>place</th>\n",
              "    </tr>\n",
              "  </thead>\n",
              "  <tbody>\n",
              "    <tr>\n",
              "      <th>0</th>\n",
              "      <td>santhosh</td>\n",
              "      <td>Dbpur</td>\n",
              "      <td>12</td>\n",
              "      <td>yes</td>\n",
              "      <td>grass</td>\n",
              "      <td>whitefield</td>\n",
              "    </tr>\n",
              "    <tr>\n",
              "      <th>1</th>\n",
              "      <td>manoj</td>\n",
              "      <td>marsandra</td>\n",
              "      <td>31</td>\n",
              "      <td>no</td>\n",
              "      <td>fire</td>\n",
              "      <td>whitefield</td>\n",
              "    </tr>\n",
              "    <tr>\n",
              "      <th>2</th>\n",
              "      <td>shivakumar</td>\n",
              "      <td>hebbal</td>\n",
              "      <td>43</td>\n",
              "      <td>yes</td>\n",
              "      <td>water</td>\n",
              "      <td>hebbal</td>\n",
              "    </tr>\n",
              "    <tr>\n",
              "      <th>3</th>\n",
              "      <td>chethan</td>\n",
              "      <td>kodigehalli</td>\n",
              "      <td>21</td>\n",
              "      <td>no</td>\n",
              "      <td>bug</td>\n",
              "      <td>hebbal</td>\n",
              "    </tr>\n",
              "  </tbody>\n",
              "</table>\n",
              "</div>"
            ],
            "text/plain": [
              "         name    evolution  hp pokedex   type       place\n",
              "0    santhosh        Dbpur  12     yes  grass  whitefield\n",
              "1       manoj    marsandra  31      no   fire  whitefield\n",
              "2  shivakumar       hebbal  43     yes  water      hebbal\n",
              "3     chethan  kodigehalli  21      no    bug      hebbal"
            ]
          },
          "metadata": {
            "tags": []
          },
          "execution_count": 8
        }
      ]
    },
    {
      "cell_type": "code",
      "metadata": {
        "id": "yD78qOKav66d",
        "colab_type": "code",
        "colab": {
          "base_uri": "https://localhost:8080/",
          "height": 136
        },
        "outputId": "049a8f20-c874-4fc8-c718-dff55c2b7f21"
      },
      "source": [
        "#type each columns\n",
        "pokeman.dtypes #pokeman.columns"
      ],
      "execution_count": 12,
      "outputs": [
        {
          "output_type": "execute_result",
          "data": {
            "text/plain": [
              "name         object\n",
              "evolution    object\n",
              "hp            int64\n",
              "pokedex      object\n",
              "type         object\n",
              "place        object\n",
              "dtype: object"
            ]
          },
          "metadata": {
            "tags": []
          },
          "execution_count": 12
        }
      ]
    },
    {
      "cell_type": "code",
      "metadata": {
        "id": "tZiKGDe7wNdP",
        "colab_type": "code",
        "colab": {}
      },
      "source": [
        ""
      ],
      "execution_count": 0,
      "outputs": []
    }
  ]
}