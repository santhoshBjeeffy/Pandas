{
  "nbformat": 4,
  "nbformat_minor": 0,
  "metadata": {
    "colab": {
      "name": "Merge_part2.ipynb",
      "provenance": [],
      "include_colab_link": true
    },
    "kernelspec": {
      "name": "python3",
      "display_name": "Python 3"
    },
    "accelerator": "GPU"
  },
  "cells": [
    {
      "cell_type": "markdown",
      "metadata": {
        "id": "view-in-github",
        "colab_type": "text"
      },
      "source": [
        "<a href=\"https://colab.research.google.com/github/santhoshBjeeffy/Pandas/blob/master/Merge_part2.ipynb\" target=\"_parent\"><img src=\"https://colab.research.google.com/assets/colab-badge.svg\" alt=\"Open In Colab\"/></a>"
      ]
    },
    {
      "cell_type": "markdown",
      "metadata": {
        "id": "XCVgOfga-48y",
        "colab_type": "text"
      },
      "source": [
        "#Fictitious Names\n",
        "\n",
        "Introduction:\n",
        "\n",
        "This time you will create a data again\n",
        "\n",
        "Special thanks to Chris Albon for sharing the dataset and materials. All the credits to this exercise belongs to him.\n",
        "\n",
        "In order to understand about it go to here."
      ]
    },
    {
      "cell_type": "code",
      "metadata": {
        "id": "12mRJq35-j_3",
        "colab_type": "code",
        "colab": {}
      },
      "source": [
        "import pandas as pd"
      ],
      "execution_count": 0,
      "outputs": []
    },
    {
      "cell_type": "code",
      "metadata": {
        "id": "8z9lE-yM-_t8",
        "colab_type": "code",
        "colab": {}
      },
      "source": [
        "raw_data1={\n",
        "    'subject_id':['1','2','3','4'],\n",
        "    'first_name':['Manoj','santhosh','shivakumar','chethan'],\n",
        "    'last_name':['sachin','jeffy','khan','gowda'] }\n",
        "\n",
        "\n",
        "raw_data2 = {\n",
        "        'subject_id': ['4', '5', '6', '7', '8'],\n",
        "        'first_name': ['Billy', 'Brian', 'Bran', 'Bryce', 'Betty'], \n",
        "        'last_name': ['Bonder', 'Black', 'Balwner', 'Brice', 'Btisan']}\n",
        "\n",
        "raw_data3 = {\n",
        "        'subject_id': ['1', '2', '3', '4', '5', '7', '8', '9', '10', '11'],\n",
        "        'test_id': [51, 15, 15, 61, 16, 14, 15, 1, 61, 16]}"
      ],
      "execution_count": 0,
      "outputs": []
    },
    {
      "cell_type": "code",
      "metadata": {
        "id": "uk9tpP3U_6qr",
        "colab_type": "code",
        "colab": {}
      },
      "source": [
        "data1=pd.DataFrame(raw_data1, columns=['subject_id','first_name','last_name'])\n",
        "data2=pd.DataFrame(raw_data2, columns=['subject_id','first_name','last_name'])\n",
        "data3=pd.DataFrame(raw_data3,columns=['subject_id','test_id'])"
      ],
      "execution_count": 0,
      "outputs": []
    },
    {
      "cell_type": "code",
      "metadata": {
        "id": "lcxrjgjMBSZO",
        "colab_type": "code",
        "colab": {
          "base_uri": "https://localhost:8080/",
          "height": 359
        },
        "outputId": "bd061866-f48f-461c-9c89-6ed5d8dd9006"
      },
      "source": [
        "data3"
      ],
      "execution_count": 8,
      "outputs": [
        {
          "output_type": "execute_result",
          "data": {
            "text/html": [
              "<div>\n",
              "<style scoped>\n",
              "    .dataframe tbody tr th:only-of-type {\n",
              "        vertical-align: middle;\n",
              "    }\n",
              "\n",
              "    .dataframe tbody tr th {\n",
              "        vertical-align: top;\n",
              "    }\n",
              "\n",
              "    .dataframe thead th {\n",
              "        text-align: right;\n",
              "    }\n",
              "</style>\n",
              "<table border=\"1\" class=\"dataframe\">\n",
              "  <thead>\n",
              "    <tr style=\"text-align: right;\">\n",
              "      <th></th>\n",
              "      <th>subject_id</th>\n",
              "      <th>test_id</th>\n",
              "    </tr>\n",
              "  </thead>\n",
              "  <tbody>\n",
              "    <tr>\n",
              "      <th>0</th>\n",
              "      <td>1</td>\n",
              "      <td>51</td>\n",
              "    </tr>\n",
              "    <tr>\n",
              "      <th>1</th>\n",
              "      <td>2</td>\n",
              "      <td>15</td>\n",
              "    </tr>\n",
              "    <tr>\n",
              "      <th>2</th>\n",
              "      <td>3</td>\n",
              "      <td>15</td>\n",
              "    </tr>\n",
              "    <tr>\n",
              "      <th>3</th>\n",
              "      <td>4</td>\n",
              "      <td>61</td>\n",
              "    </tr>\n",
              "    <tr>\n",
              "      <th>4</th>\n",
              "      <td>5</td>\n",
              "      <td>16</td>\n",
              "    </tr>\n",
              "    <tr>\n",
              "      <th>5</th>\n",
              "      <td>7</td>\n",
              "      <td>14</td>\n",
              "    </tr>\n",
              "    <tr>\n",
              "      <th>6</th>\n",
              "      <td>8</td>\n",
              "      <td>15</td>\n",
              "    </tr>\n",
              "    <tr>\n",
              "      <th>7</th>\n",
              "      <td>9</td>\n",
              "      <td>1</td>\n",
              "    </tr>\n",
              "    <tr>\n",
              "      <th>8</th>\n",
              "      <td>10</td>\n",
              "      <td>61</td>\n",
              "    </tr>\n",
              "    <tr>\n",
              "      <th>9</th>\n",
              "      <td>11</td>\n",
              "      <td>16</td>\n",
              "    </tr>\n",
              "  </tbody>\n",
              "</table>\n",
              "</div>"
            ],
            "text/plain": [
              "  subject_id  test_id\n",
              "0          1       51\n",
              "1          2       15\n",
              "2          3       15\n",
              "3          4       61\n",
              "4          5       16\n",
              "5          7       14\n",
              "6          8       15\n",
              "7          9        1\n",
              "8         10       61\n",
              "9         11       16"
            ]
          },
          "metadata": {
            "tags": []
          },
          "execution_count": 8
        }
      ]
    },
    {
      "cell_type": "markdown",
      "metadata": {
        "id": "krsq4L_LBf-N",
        "colab_type": "text"
      },
      "source": [
        "# Join the two dataframes along rows and assign all_data"
      ]
    },
    {
      "cell_type": "code",
      "metadata": {
        "id": "G2vNrUN9BZrm",
        "colab_type": "code",
        "colab": {
          "base_uri": "https://localhost:8080/",
          "height": 328
        },
        "outputId": "66213ad4-36df-4656-c9f3-815282fd5b6d"
      },
      "source": [
        "all_data=pd.concat([data1,data2])\n",
        "all_data"
      ],
      "execution_count": 9,
      "outputs": [
        {
          "output_type": "execute_result",
          "data": {
            "text/html": [
              "<div>\n",
              "<style scoped>\n",
              "    .dataframe tbody tr th:only-of-type {\n",
              "        vertical-align: middle;\n",
              "    }\n",
              "\n",
              "    .dataframe tbody tr th {\n",
              "        vertical-align: top;\n",
              "    }\n",
              "\n",
              "    .dataframe thead th {\n",
              "        text-align: right;\n",
              "    }\n",
              "</style>\n",
              "<table border=\"1\" class=\"dataframe\">\n",
              "  <thead>\n",
              "    <tr style=\"text-align: right;\">\n",
              "      <th></th>\n",
              "      <th>subject_id</th>\n",
              "      <th>first_name</th>\n",
              "      <th>last_name</th>\n",
              "    </tr>\n",
              "  </thead>\n",
              "  <tbody>\n",
              "    <tr>\n",
              "      <th>0</th>\n",
              "      <td>1</td>\n",
              "      <td>Manoj</td>\n",
              "      <td>sachin</td>\n",
              "    </tr>\n",
              "    <tr>\n",
              "      <th>1</th>\n",
              "      <td>2</td>\n",
              "      <td>santhosh</td>\n",
              "      <td>jeffy</td>\n",
              "    </tr>\n",
              "    <tr>\n",
              "      <th>2</th>\n",
              "      <td>3</td>\n",
              "      <td>shivakumar</td>\n",
              "      <td>khan</td>\n",
              "    </tr>\n",
              "    <tr>\n",
              "      <th>3</th>\n",
              "      <td>4</td>\n",
              "      <td>chethan</td>\n",
              "      <td>gowda</td>\n",
              "    </tr>\n",
              "    <tr>\n",
              "      <th>0</th>\n",
              "      <td>4</td>\n",
              "      <td>Billy</td>\n",
              "      <td>Bonder</td>\n",
              "    </tr>\n",
              "    <tr>\n",
              "      <th>1</th>\n",
              "      <td>5</td>\n",
              "      <td>Brian</td>\n",
              "      <td>Black</td>\n",
              "    </tr>\n",
              "    <tr>\n",
              "      <th>2</th>\n",
              "      <td>6</td>\n",
              "      <td>Bran</td>\n",
              "      <td>Balwner</td>\n",
              "    </tr>\n",
              "    <tr>\n",
              "      <th>3</th>\n",
              "      <td>7</td>\n",
              "      <td>Bryce</td>\n",
              "      <td>Brice</td>\n",
              "    </tr>\n",
              "    <tr>\n",
              "      <th>4</th>\n",
              "      <td>8</td>\n",
              "      <td>Betty</td>\n",
              "      <td>Btisan</td>\n",
              "    </tr>\n",
              "  </tbody>\n",
              "</table>\n",
              "</div>"
            ],
            "text/plain": [
              "  subject_id  first_name last_name\n",
              "0          1       Manoj    sachin\n",
              "1          2    santhosh     jeffy\n",
              "2          3  shivakumar      khan\n",
              "3          4     chethan     gowda\n",
              "0          4       Billy    Bonder\n",
              "1          5       Brian     Black\n",
              "2          6        Bran   Balwner\n",
              "3          7       Bryce     Brice\n",
              "4          8       Betty    Btisan"
            ]
          },
          "metadata": {
            "tags": []
          },
          "execution_count": 9
        }
      ]
    },
    {
      "cell_type": "markdown",
      "metadata": {
        "id": "Nady8avrBw72",
        "colab_type": "text"
      },
      "source": [
        "# Join the two dataframes along columns and assing to all_data_col\n"
      ]
    },
    {
      "cell_type": "code",
      "metadata": {
        "id": "R6RUOVMjBpHe",
        "colab_type": "code",
        "colab": {
          "base_uri": "https://localhost:8080/",
          "height": 204
        },
        "outputId": "8ced3aa0-80d4-42a5-9265-4175adab4203"
      },
      "source": [
        "all_data_col=pd.concat([data1,data2],axis=1)\n",
        "all_data_col"
      ],
      "execution_count": 10,
      "outputs": [
        {
          "output_type": "execute_result",
          "data": {
            "text/html": [
              "<div>\n",
              "<style scoped>\n",
              "    .dataframe tbody tr th:only-of-type {\n",
              "        vertical-align: middle;\n",
              "    }\n",
              "\n",
              "    .dataframe tbody tr th {\n",
              "        vertical-align: top;\n",
              "    }\n",
              "\n",
              "    .dataframe thead th {\n",
              "        text-align: right;\n",
              "    }\n",
              "</style>\n",
              "<table border=\"1\" class=\"dataframe\">\n",
              "  <thead>\n",
              "    <tr style=\"text-align: right;\">\n",
              "      <th></th>\n",
              "      <th>subject_id</th>\n",
              "      <th>first_name</th>\n",
              "      <th>last_name</th>\n",
              "      <th>subject_id</th>\n",
              "      <th>first_name</th>\n",
              "      <th>last_name</th>\n",
              "    </tr>\n",
              "  </thead>\n",
              "  <tbody>\n",
              "    <tr>\n",
              "      <th>0</th>\n",
              "      <td>1</td>\n",
              "      <td>Manoj</td>\n",
              "      <td>sachin</td>\n",
              "      <td>4</td>\n",
              "      <td>Billy</td>\n",
              "      <td>Bonder</td>\n",
              "    </tr>\n",
              "    <tr>\n",
              "      <th>1</th>\n",
              "      <td>2</td>\n",
              "      <td>santhosh</td>\n",
              "      <td>jeffy</td>\n",
              "      <td>5</td>\n",
              "      <td>Brian</td>\n",
              "      <td>Black</td>\n",
              "    </tr>\n",
              "    <tr>\n",
              "      <th>2</th>\n",
              "      <td>3</td>\n",
              "      <td>shivakumar</td>\n",
              "      <td>khan</td>\n",
              "      <td>6</td>\n",
              "      <td>Bran</td>\n",
              "      <td>Balwner</td>\n",
              "    </tr>\n",
              "    <tr>\n",
              "      <th>3</th>\n",
              "      <td>4</td>\n",
              "      <td>chethan</td>\n",
              "      <td>gowda</td>\n",
              "      <td>7</td>\n",
              "      <td>Bryce</td>\n",
              "      <td>Brice</td>\n",
              "    </tr>\n",
              "    <tr>\n",
              "      <th>4</th>\n",
              "      <td>NaN</td>\n",
              "      <td>NaN</td>\n",
              "      <td>NaN</td>\n",
              "      <td>8</td>\n",
              "      <td>Betty</td>\n",
              "      <td>Btisan</td>\n",
              "    </tr>\n",
              "  </tbody>\n",
              "</table>\n",
              "</div>"
            ],
            "text/plain": [
              "  subject_id  first_name last_name subject_id first_name last_name\n",
              "0          1       Manoj    sachin          4      Billy    Bonder\n",
              "1          2    santhosh     jeffy          5      Brian     Black\n",
              "2          3  shivakumar      khan          6       Bran   Balwner\n",
              "3          4     chethan     gowda          7      Bryce     Brice\n",
              "4        NaN         NaN       NaN          8      Betty    Btisan"
            ]
          },
          "metadata": {
            "tags": []
          },
          "execution_count": 10
        }
      ]
    },
    {
      "cell_type": "code",
      "metadata": {
        "id": "85wjHlMoCBQH",
        "colab_type": "code",
        "colab": {
          "base_uri": "https://localhost:8080/",
          "height": 173
        },
        "outputId": "8d5ccc31-805d-4747-85fc-088d0118b37e"
      },
      "source": [
        "all_data_col.dropna()"
      ],
      "execution_count": 11,
      "outputs": [
        {
          "output_type": "execute_result",
          "data": {
            "text/html": [
              "<div>\n",
              "<style scoped>\n",
              "    .dataframe tbody tr th:only-of-type {\n",
              "        vertical-align: middle;\n",
              "    }\n",
              "\n",
              "    .dataframe tbody tr th {\n",
              "        vertical-align: top;\n",
              "    }\n",
              "\n",
              "    .dataframe thead th {\n",
              "        text-align: right;\n",
              "    }\n",
              "</style>\n",
              "<table border=\"1\" class=\"dataframe\">\n",
              "  <thead>\n",
              "    <tr style=\"text-align: right;\">\n",
              "      <th></th>\n",
              "      <th>subject_id</th>\n",
              "      <th>first_name</th>\n",
              "      <th>last_name</th>\n",
              "      <th>subject_id</th>\n",
              "      <th>first_name</th>\n",
              "      <th>last_name</th>\n",
              "    </tr>\n",
              "  </thead>\n",
              "  <tbody>\n",
              "    <tr>\n",
              "      <th>0</th>\n",
              "      <td>1</td>\n",
              "      <td>Manoj</td>\n",
              "      <td>sachin</td>\n",
              "      <td>4</td>\n",
              "      <td>Billy</td>\n",
              "      <td>Bonder</td>\n",
              "    </tr>\n",
              "    <tr>\n",
              "      <th>1</th>\n",
              "      <td>2</td>\n",
              "      <td>santhosh</td>\n",
              "      <td>jeffy</td>\n",
              "      <td>5</td>\n",
              "      <td>Brian</td>\n",
              "      <td>Black</td>\n",
              "    </tr>\n",
              "    <tr>\n",
              "      <th>2</th>\n",
              "      <td>3</td>\n",
              "      <td>shivakumar</td>\n",
              "      <td>khan</td>\n",
              "      <td>6</td>\n",
              "      <td>Bran</td>\n",
              "      <td>Balwner</td>\n",
              "    </tr>\n",
              "    <tr>\n",
              "      <th>3</th>\n",
              "      <td>4</td>\n",
              "      <td>chethan</td>\n",
              "      <td>gowda</td>\n",
              "      <td>7</td>\n",
              "      <td>Bryce</td>\n",
              "      <td>Brice</td>\n",
              "    </tr>\n",
              "  </tbody>\n",
              "</table>\n",
              "</div>"
            ],
            "text/plain": [
              "  subject_id  first_name last_name subject_id first_name last_name\n",
              "0          1       Manoj    sachin          4      Billy    Bonder\n",
              "1          2    santhosh     jeffy          5      Brian     Black\n",
              "2          3  shivakumar      khan          6       Bran   Balwner\n",
              "3          4     chethan     gowda          7      Bryce     Brice"
            ]
          },
          "metadata": {
            "tags": []
          },
          "execution_count": 11
        }
      ]
    },
    {
      "cell_type": "markdown",
      "metadata": {
        "id": "lSE8xeObCNyQ",
        "colab_type": "text"
      },
      "source": [
        "# Merge all_data and data3 along the subject_id value\n"
      ]
    },
    {
      "cell_type": "code",
      "metadata": {
        "id": "8WUVv0z5CIAX",
        "colab_type": "code",
        "colab": {
          "base_uri": "https://localhost:8080/",
          "height": 297
        },
        "outputId": "aee1bc27-08c2-4c85-f861-101a07d94615"
      },
      "source": [
        "pd.merge(all_data,data3,on='subject_id')"
      ],
      "execution_count": 12,
      "outputs": [
        {
          "output_type": "execute_result",
          "data": {
            "text/html": [
              "<div>\n",
              "<style scoped>\n",
              "    .dataframe tbody tr th:only-of-type {\n",
              "        vertical-align: middle;\n",
              "    }\n",
              "\n",
              "    .dataframe tbody tr th {\n",
              "        vertical-align: top;\n",
              "    }\n",
              "\n",
              "    .dataframe thead th {\n",
              "        text-align: right;\n",
              "    }\n",
              "</style>\n",
              "<table border=\"1\" class=\"dataframe\">\n",
              "  <thead>\n",
              "    <tr style=\"text-align: right;\">\n",
              "      <th></th>\n",
              "      <th>subject_id</th>\n",
              "      <th>first_name</th>\n",
              "      <th>last_name</th>\n",
              "      <th>test_id</th>\n",
              "    </tr>\n",
              "  </thead>\n",
              "  <tbody>\n",
              "    <tr>\n",
              "      <th>0</th>\n",
              "      <td>1</td>\n",
              "      <td>Manoj</td>\n",
              "      <td>sachin</td>\n",
              "      <td>51</td>\n",
              "    </tr>\n",
              "    <tr>\n",
              "      <th>1</th>\n",
              "      <td>2</td>\n",
              "      <td>santhosh</td>\n",
              "      <td>jeffy</td>\n",
              "      <td>15</td>\n",
              "    </tr>\n",
              "    <tr>\n",
              "      <th>2</th>\n",
              "      <td>3</td>\n",
              "      <td>shivakumar</td>\n",
              "      <td>khan</td>\n",
              "      <td>15</td>\n",
              "    </tr>\n",
              "    <tr>\n",
              "      <th>3</th>\n",
              "      <td>4</td>\n",
              "      <td>chethan</td>\n",
              "      <td>gowda</td>\n",
              "      <td>61</td>\n",
              "    </tr>\n",
              "    <tr>\n",
              "      <th>4</th>\n",
              "      <td>4</td>\n",
              "      <td>Billy</td>\n",
              "      <td>Bonder</td>\n",
              "      <td>61</td>\n",
              "    </tr>\n",
              "    <tr>\n",
              "      <th>5</th>\n",
              "      <td>5</td>\n",
              "      <td>Brian</td>\n",
              "      <td>Black</td>\n",
              "      <td>16</td>\n",
              "    </tr>\n",
              "    <tr>\n",
              "      <th>6</th>\n",
              "      <td>7</td>\n",
              "      <td>Bryce</td>\n",
              "      <td>Brice</td>\n",
              "      <td>14</td>\n",
              "    </tr>\n",
              "    <tr>\n",
              "      <th>7</th>\n",
              "      <td>8</td>\n",
              "      <td>Betty</td>\n",
              "      <td>Btisan</td>\n",
              "      <td>15</td>\n",
              "    </tr>\n",
              "  </tbody>\n",
              "</table>\n",
              "</div>"
            ],
            "text/plain": [
              "  subject_id  first_name last_name  test_id\n",
              "0          1       Manoj    sachin       51\n",
              "1          2    santhosh     jeffy       15\n",
              "2          3  shivakumar      khan       15\n",
              "3          4     chethan     gowda       61\n",
              "4          4       Billy    Bonder       61\n",
              "5          5       Brian     Black       16\n",
              "6          7       Bryce     Brice       14\n",
              "7          8       Betty    Btisan       15"
            ]
          },
          "metadata": {
            "tags": []
          },
          "execution_count": 12
        }
      ]
    },
    {
      "cell_type": "markdown",
      "metadata": {
        "id": "eFhni0ErGBfw",
        "colab_type": "text"
      },
      "source": [
        "#Merge only the data that has the same 'subject_id' on both data1 and data2\n"
      ]
    },
    {
      "cell_type": "code",
      "metadata": {
        "id": "pBfjuXOuF3PR",
        "colab_type": "code",
        "colab": {
          "base_uri": "https://localhost:8080/",
          "height": 80
        },
        "outputId": "8162bda4-ba7a-4adf-bcc3-add3d0e8900f"
      },
      "source": [
        "pd.merge(data1,data2,on='subject_id',how='inner')"
      ],
      "execution_count": 14,
      "outputs": [
        {
          "output_type": "execute_result",
          "data": {
            "text/html": [
              "<div>\n",
              "<style scoped>\n",
              "    .dataframe tbody tr th:only-of-type {\n",
              "        vertical-align: middle;\n",
              "    }\n",
              "\n",
              "    .dataframe tbody tr th {\n",
              "        vertical-align: top;\n",
              "    }\n",
              "\n",
              "    .dataframe thead th {\n",
              "        text-align: right;\n",
              "    }\n",
              "</style>\n",
              "<table border=\"1\" class=\"dataframe\">\n",
              "  <thead>\n",
              "    <tr style=\"text-align: right;\">\n",
              "      <th></th>\n",
              "      <th>subject_id</th>\n",
              "      <th>first_name_x</th>\n",
              "      <th>last_name_x</th>\n",
              "      <th>first_name_y</th>\n",
              "      <th>last_name_y</th>\n",
              "    </tr>\n",
              "  </thead>\n",
              "  <tbody>\n",
              "    <tr>\n",
              "      <th>0</th>\n",
              "      <td>4</td>\n",
              "      <td>chethan</td>\n",
              "      <td>gowda</td>\n",
              "      <td>Billy</td>\n",
              "      <td>Bonder</td>\n",
              "    </tr>\n",
              "  </tbody>\n",
              "</table>\n",
              "</div>"
            ],
            "text/plain": [
              "  subject_id first_name_x last_name_x first_name_y last_name_y\n",
              "0          4      chethan       gowda        Billy      Bonder"
            ]
          },
          "metadata": {
            "tags": []
          },
          "execution_count": 14
        }
      ]
    },
    {
      "cell_type": "markdown",
      "metadata": {
        "id": "Tze-QiOeJFH_",
        "colab_type": "text"
      },
      "source": [
        "Merge all values in data1 and data2, with matching records from both sides where available"
      ]
    },
    {
      "cell_type": "code",
      "metadata": {
        "id": "d4mGOgxBHF4v",
        "colab_type": "code",
        "colab": {
          "base_uri": "https://localhost:8080/",
          "height": 297
        },
        "outputId": "fd8a18b6-7bcb-401f-e4d5-a0316124c38c"
      },
      "source": [
        "pd.merge(data1, data2, on='subject_id', how='outer')\n"
      ],
      "execution_count": 15,
      "outputs": [
        {
          "output_type": "execute_result",
          "data": {
            "text/html": [
              "<div>\n",
              "<style scoped>\n",
              "    .dataframe tbody tr th:only-of-type {\n",
              "        vertical-align: middle;\n",
              "    }\n",
              "\n",
              "    .dataframe tbody tr th {\n",
              "        vertical-align: top;\n",
              "    }\n",
              "\n",
              "    .dataframe thead th {\n",
              "        text-align: right;\n",
              "    }\n",
              "</style>\n",
              "<table border=\"1\" class=\"dataframe\">\n",
              "  <thead>\n",
              "    <tr style=\"text-align: right;\">\n",
              "      <th></th>\n",
              "      <th>subject_id</th>\n",
              "      <th>first_name_x</th>\n",
              "      <th>last_name_x</th>\n",
              "      <th>first_name_y</th>\n",
              "      <th>last_name_y</th>\n",
              "    </tr>\n",
              "  </thead>\n",
              "  <tbody>\n",
              "    <tr>\n",
              "      <th>0</th>\n",
              "      <td>1</td>\n",
              "      <td>Manoj</td>\n",
              "      <td>sachin</td>\n",
              "      <td>NaN</td>\n",
              "      <td>NaN</td>\n",
              "    </tr>\n",
              "    <tr>\n",
              "      <th>1</th>\n",
              "      <td>2</td>\n",
              "      <td>santhosh</td>\n",
              "      <td>jeffy</td>\n",
              "      <td>NaN</td>\n",
              "      <td>NaN</td>\n",
              "    </tr>\n",
              "    <tr>\n",
              "      <th>2</th>\n",
              "      <td>3</td>\n",
              "      <td>shivakumar</td>\n",
              "      <td>khan</td>\n",
              "      <td>NaN</td>\n",
              "      <td>NaN</td>\n",
              "    </tr>\n",
              "    <tr>\n",
              "      <th>3</th>\n",
              "      <td>4</td>\n",
              "      <td>chethan</td>\n",
              "      <td>gowda</td>\n",
              "      <td>Billy</td>\n",
              "      <td>Bonder</td>\n",
              "    </tr>\n",
              "    <tr>\n",
              "      <th>4</th>\n",
              "      <td>5</td>\n",
              "      <td>NaN</td>\n",
              "      <td>NaN</td>\n",
              "      <td>Brian</td>\n",
              "      <td>Black</td>\n",
              "    </tr>\n",
              "    <tr>\n",
              "      <th>5</th>\n",
              "      <td>6</td>\n",
              "      <td>NaN</td>\n",
              "      <td>NaN</td>\n",
              "      <td>Bran</td>\n",
              "      <td>Balwner</td>\n",
              "    </tr>\n",
              "    <tr>\n",
              "      <th>6</th>\n",
              "      <td>7</td>\n",
              "      <td>NaN</td>\n",
              "      <td>NaN</td>\n",
              "      <td>Bryce</td>\n",
              "      <td>Brice</td>\n",
              "    </tr>\n",
              "    <tr>\n",
              "      <th>7</th>\n",
              "      <td>8</td>\n",
              "      <td>NaN</td>\n",
              "      <td>NaN</td>\n",
              "      <td>Betty</td>\n",
              "      <td>Btisan</td>\n",
              "    </tr>\n",
              "  </tbody>\n",
              "</table>\n",
              "</div>"
            ],
            "text/plain": [
              "  subject_id first_name_x last_name_x first_name_y last_name_y\n",
              "0          1        Manoj      sachin          NaN         NaN\n",
              "1          2     santhosh       jeffy          NaN         NaN\n",
              "2          3   shivakumar        khan          NaN         NaN\n",
              "3          4      chethan       gowda        Billy      Bonder\n",
              "4          5          NaN         NaN        Brian       Black\n",
              "5          6          NaN         NaN         Bran     Balwner\n",
              "6          7          NaN         NaN        Bryce       Brice\n",
              "7          8          NaN         NaN        Betty      Btisan"
            ]
          },
          "metadata": {
            "tags": []
          },
          "execution_count": 15
        }
      ]
    },
    {
      "cell_type": "code",
      "metadata": {
        "id": "JK2OK7YbJIih",
        "colab_type": "code",
        "colab": {}
      },
      "source": [
        ""
      ],
      "execution_count": 0,
      "outputs": []
    }
  ]
}